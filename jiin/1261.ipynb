{
  "nbformat": 4,
  "nbformat_minor": 0,
  "metadata": {
    "colab": {
      "name": "1261.ipynb",
      "private_outputs": true,
      "provenance": [],
      "collapsed_sections": [],
      "authorship_tag": "ABX9TyNQq8GleTQ8PDIp/yu5n4wK",
      "include_colab_link": true
    },
    "kernelspec": {
      "name": "python3",
      "display_name": "Python 3"
    }
  },
  "cells": [
    {
      "cell_type": "markdown",
      "metadata": {
        "id": "view-in-github",
        "colab_type": "text"
      },
      "source": [
        "<a href=\"https://colab.research.google.com/github/acquaintance17/DeepLearningZeroToAll/blob/master/jiin/1261.ipynb\" target=\"_parent\"><img src=\"https://colab.research.google.com/assets/colab-badge.svg\" alt=\"Open In Colab\"/></a>"
      ]
    },
    {
      "cell_type": "code",
      "metadata": {
        "id": "GdM_lhK9o9S1"
      },
      "source": [
        "N, M = map(int, input().split())\r\n",
        "maze = [[0]*M for _ in range(N)]\r\n",
        "\r\n",
        "for m in range (M):\r\n",
        "    m_ = input()\r\n",
        "    m_list = [int (i) for i in list(m_)]\r\n",
        "    for n in range(N):\r\n",
        "        maze[n][m] = m_list[n]\r\n",
        "\r\n",
        "#거리저장배열(시작점 ~ 현재 지점까지 최소 거리 저장 배열)\r\n",
        "distance = [[10000]*M for _ in range(N)]\r\n",
        "distance[0][0] = 0\r\n",
        "\r\n",
        "#우선순위큐(현재 지점까지 최소 거리 업데이트 시 저장)\r\n",
        "queue = [[[0,0],0]]\r\n",
        "\r\n",
        "while queue:\r\n",
        "    q = queue.pop(0)\r\n",
        "    cur = q[0]\r\n",
        "    dist = q[1]\r\n",
        "    next = []\r\n",
        "    \r\n",
        "    #다음 방문 지점 구하기\r\n",
        "    if (cur[0] - 1) != -1:\r\n",
        "        next.append([cur[0]-1,cur[1]])\r\n",
        "    if (cur[1] - 1) != -1:\r\n",
        "        next.append([cur[0],cur[1]-1])\r\n",
        "    if (cur[0]) != N-1:\r\n",
        "        next.append([cur[0]+1,cur[1]])\r\n",
        "    if (cur[1]) != M-1:\r\n",
        "        next.append([cur[0],cur[1]+1])\r\n",
        "\r\n",
        "    #다음 방문 지점까지의 거리가 거리저장 배열 속 데이터보다 작으면 update\r\n",
        "    for k in next:\r\n",
        "        next_x = k[0]\r\n",
        "        next_y = k[1]\r\n",
        "        new_dist = dist + maze[next_x][next_y]\r\n",
        "        if  new_dist < distance[next_x][next_y]:\r\n",
        "            distance[next_x][next_y] = new_dist\r\n",
        "            queue.append([[next_x, next_y],new_dist])\r\n",
        "\r\n",
        "print(distance[N-1][M-1])"
      ],
      "execution_count": null,
      "outputs": []
    }
  ]
}